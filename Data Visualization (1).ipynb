{
 "cells": [
  {
   "cell_type": "markdown",
   "metadata": {
    "id": "kPXWFDXVWPjg"
   },
   "source": [
    "<h1>Objective</h1>\n",
    "<h4>Subscription prediction from the given dataset</h4>"
   ]
  },
  {
   "cell_type": "markdown",
   "metadata": {
    "id": "ftet5tOcdSJP"
   },
   "source": [
    "##  Download and Prep the Data:"
   ]
  },
  {
   "cell_type": "markdown",
   "metadata": {
    "id": "U6fcufFgdSJS"
   },
   "source": [
    "Import the modules needed"
   ]
  },
  {
   "cell_type": "code",
   "execution_count": 1,
   "metadata": {
    "id": "PsfSBayTvrXp"
   },
   "outputs": [],
   "source": [
    "import pandas as pd\n",
    "import numpy as np\n",
    "import seaborn as sns\n",
    "import matplotlib.pyplot as plt\n",
    "%matplotlib inline   "
   ]
  },
  {
   "cell_type": "markdown",
   "metadata": {
    "id": "A3qzP0srdSJe"
   },
   "source": [
    "Download the dataset and read it into a dataframe"
   ]
  },
  {
   "cell_type": "code",
   "execution_count": 2,
   "metadata": {
    "id": "VC9KW00pvu7g"
   },
   "outputs": [],
   "source": [
    "data=pd.read_csv('dvi-a2-ps2-data.csv')"
   ]
  },
  {
   "cell_type": "markdown",
   "metadata": {
    "id": "TfgXC25ndSJs"
   },
   "source": [
    "First five items in the dataset."
   ]
  },
  {
   "cell_type": "code",
   "execution_count": 3,
   "metadata": {
    "id": "k4jR1t8wvxuL"
   },
   "outputs": [
    {
     "data": {
      "text/html": [
       "<div>\n",
       "<style scoped>\n",
       "    .dataframe tbody tr th:only-of-type {\n",
       "        vertical-align: middle;\n",
       "    }\n",
       "\n",
       "    .dataframe tbody tr th {\n",
       "        vertical-align: top;\n",
       "    }\n",
       "\n",
       "    .dataframe thead th {\n",
       "        text-align: right;\n",
       "    }\n",
       "</style>\n",
       "<table border=\"1\" class=\"dataframe\">\n",
       "  <thead>\n",
       "    <tr style=\"text-align: right;\">\n",
       "      <th></th>\n",
       "      <th>age</th>\n",
       "      <th>job</th>\n",
       "      <th>marital</th>\n",
       "      <th>education</th>\n",
       "      <th>default</th>\n",
       "      <th>housing</th>\n",
       "      <th>loan</th>\n",
       "      <th>contact</th>\n",
       "      <th>month</th>\n",
       "      <th>day_of_week</th>\n",
       "      <th>...</th>\n",
       "      <th>campaign</th>\n",
       "      <th>pdays</th>\n",
       "      <th>previous</th>\n",
       "      <th>poutcome</th>\n",
       "      <th>emp_var_rate</th>\n",
       "      <th>cons_price_idx</th>\n",
       "      <th>cons_conf_idx</th>\n",
       "      <th>euribor3m</th>\n",
       "      <th>nr_employed</th>\n",
       "      <th>subscription</th>\n",
       "    </tr>\n",
       "  </thead>\n",
       "  <tbody>\n",
       "    <tr>\n",
       "      <th>0</th>\n",
       "      <td>44</td>\n",
       "      <td>blue-collar</td>\n",
       "      <td>married</td>\n",
       "      <td>basic.4y</td>\n",
       "      <td>unknown</td>\n",
       "      <td>yes</td>\n",
       "      <td>no</td>\n",
       "      <td>cellular</td>\n",
       "      <td>aug</td>\n",
       "      <td>thu</td>\n",
       "      <td>...</td>\n",
       "      <td>1</td>\n",
       "      <td>999</td>\n",
       "      <td>0</td>\n",
       "      <td>nonexistent</td>\n",
       "      <td>1.4</td>\n",
       "      <td>93.444</td>\n",
       "      <td>-36.1</td>\n",
       "      <td>4.963</td>\n",
       "      <td>5228.1</td>\n",
       "      <td>0</td>\n",
       "    </tr>\n",
       "    <tr>\n",
       "      <th>1</th>\n",
       "      <td>53</td>\n",
       "      <td>technician</td>\n",
       "      <td>married</td>\n",
       "      <td>unknown</td>\n",
       "      <td>no</td>\n",
       "      <td>no</td>\n",
       "      <td>no</td>\n",
       "      <td>cellular</td>\n",
       "      <td>nov</td>\n",
       "      <td>fri</td>\n",
       "      <td>...</td>\n",
       "      <td>1</td>\n",
       "      <td>999</td>\n",
       "      <td>0</td>\n",
       "      <td>nonexistent</td>\n",
       "      <td>-0.1</td>\n",
       "      <td>93.200</td>\n",
       "      <td>-42.0</td>\n",
       "      <td>4.021</td>\n",
       "      <td>5195.8</td>\n",
       "      <td>0</td>\n",
       "    </tr>\n",
       "    <tr>\n",
       "      <th>2</th>\n",
       "      <td>28</td>\n",
       "      <td>management</td>\n",
       "      <td>single</td>\n",
       "      <td>university.degree</td>\n",
       "      <td>no</td>\n",
       "      <td>yes</td>\n",
       "      <td>no</td>\n",
       "      <td>cellular</td>\n",
       "      <td>jun</td>\n",
       "      <td>thu</td>\n",
       "      <td>...</td>\n",
       "      <td>3</td>\n",
       "      <td>6</td>\n",
       "      <td>2</td>\n",
       "      <td>success</td>\n",
       "      <td>-1.7</td>\n",
       "      <td>94.055</td>\n",
       "      <td>-39.8</td>\n",
       "      <td>0.729</td>\n",
       "      <td>4991.6</td>\n",
       "      <td>1</td>\n",
       "    </tr>\n",
       "    <tr>\n",
       "      <th>3</th>\n",
       "      <td>39</td>\n",
       "      <td>services</td>\n",
       "      <td>married</td>\n",
       "      <td>high.school</td>\n",
       "      <td>no</td>\n",
       "      <td>no</td>\n",
       "      <td>no</td>\n",
       "      <td>cellular</td>\n",
       "      <td>apr</td>\n",
       "      <td>fri</td>\n",
       "      <td>...</td>\n",
       "      <td>2</td>\n",
       "      <td>999</td>\n",
       "      <td>0</td>\n",
       "      <td>nonexistent</td>\n",
       "      <td>-1.8</td>\n",
       "      <td>93.075</td>\n",
       "      <td>-47.1</td>\n",
       "      <td>1.405</td>\n",
       "      <td>5099.1</td>\n",
       "      <td>0</td>\n",
       "    </tr>\n",
       "    <tr>\n",
       "      <th>4</th>\n",
       "      <td>55</td>\n",
       "      <td>retired</td>\n",
       "      <td>married</td>\n",
       "      <td>basic.4y</td>\n",
       "      <td>no</td>\n",
       "      <td>yes</td>\n",
       "      <td>no</td>\n",
       "      <td>cellular</td>\n",
       "      <td>aug</td>\n",
       "      <td>fri</td>\n",
       "      <td>...</td>\n",
       "      <td>1</td>\n",
       "      <td>3</td>\n",
       "      <td>1</td>\n",
       "      <td>success</td>\n",
       "      <td>-2.9</td>\n",
       "      <td>92.201</td>\n",
       "      <td>-31.4</td>\n",
       "      <td>0.869</td>\n",
       "      <td>5076.2</td>\n",
       "      <td>1</td>\n",
       "    </tr>\n",
       "  </tbody>\n",
       "</table>\n",
       "<p>5 rows × 21 columns</p>\n",
       "</div>"
      ],
      "text/plain": [
       "   age          job  marital          education  default housing loan  \\\n",
       "0   44  blue-collar  married           basic.4y  unknown     yes   no   \n",
       "1   53   technician  married            unknown       no      no   no   \n",
       "2   28   management   single  university.degree       no     yes   no   \n",
       "3   39     services  married        high.school       no      no   no   \n",
       "4   55      retired  married           basic.4y       no     yes   no   \n",
       "\n",
       "    contact month day_of_week  ...  campaign  pdays  previous     poutcome  \\\n",
       "0  cellular   aug         thu  ...         1    999         0  nonexistent   \n",
       "1  cellular   nov         fri  ...         1    999         0  nonexistent   \n",
       "2  cellular   jun         thu  ...         3      6         2      success   \n",
       "3  cellular   apr         fri  ...         2    999         0  nonexistent   \n",
       "4  cellular   aug         fri  ...         1      3         1      success   \n",
       "\n",
       "  emp_var_rate  cons_price_idx  cons_conf_idx  euribor3m  nr_employed  \\\n",
       "0          1.4          93.444          -36.1      4.963       5228.1   \n",
       "1         -0.1          93.200          -42.0      4.021       5195.8   \n",
       "2         -1.7          94.055          -39.8      0.729       4991.6   \n",
       "3         -1.8          93.075          -47.1      1.405       5099.1   \n",
       "4         -2.9          92.201          -31.4      0.869       5076.2   \n",
       "\n",
       "   subscription  \n",
       "0             0  \n",
       "1             0  \n",
       "2             1  \n",
       "3             0  \n",
       "4             1  \n",
       "\n",
       "[5 rows x 21 columns]"
      ]
     },
     "execution_count": 3,
     "metadata": {},
     "output_type": "execute_result"
    }
   ],
   "source": [
    "data.head(5)\n",
    "#Note:\n",
    "#Top 5 records of the dataset"
   ]
  },
  {
   "cell_type": "markdown",
   "metadata": {
    "id": "jTnkoY6xdSJz"
   },
   "source": [
    "Find out how many entries there are in the dataset."
   ]
  },
  {
   "cell_type": "code",
   "execution_count": 4,
   "metadata": {
    "id": "b6dYQTluv01j"
   },
   "outputs": [
    {
     "data": {
      "text/plain": [
       "(41188, 21)"
      ]
     },
     "execution_count": 4,
     "metadata": {},
     "output_type": "execute_result"
    }
   ],
   "source": [
    "data.shape\n",
    "\n",
    "#Note:\n",
    "#There area 41188 records in dataset and 21 features"
   ]
  },
  {
   "cell_type": "markdown",
   "metadata": {
    "id": "Lh_NVnlKdSKB"
   },
   "source": [
    "Clean up data. <br>\n",
    "Remove unnecessary columns. Mention the reasons.<br>\n",
    "Show the data."
   ]
  },
  {
   "cell_type": "code",
   "execution_count": 5,
   "metadata": {},
   "outputs": [
    {
     "data": {
      "text/html": [
       "<div>\n",
       "<style scoped>\n",
       "    .dataframe tbody tr th:only-of-type {\n",
       "        vertical-align: middle;\n",
       "    }\n",
       "\n",
       "    .dataframe tbody tr th {\n",
       "        vertical-align: top;\n",
       "    }\n",
       "\n",
       "    .dataframe thead th {\n",
       "        text-align: right;\n",
       "    }\n",
       "</style>\n",
       "<table border=\"1\" class=\"dataframe\">\n",
       "  <thead>\n",
       "    <tr style=\"text-align: right;\">\n",
       "      <th></th>\n",
       "      <th>age</th>\n",
       "      <th>duration</th>\n",
       "      <th>campaign</th>\n",
       "      <th>pdays</th>\n",
       "      <th>previous</th>\n",
       "      <th>emp_var_rate</th>\n",
       "      <th>cons_price_idx</th>\n",
       "      <th>cons_conf_idx</th>\n",
       "      <th>euribor3m</th>\n",
       "      <th>nr_employed</th>\n",
       "      <th>subscription</th>\n",
       "    </tr>\n",
       "  </thead>\n",
       "  <tbody>\n",
       "    <tr>\n",
       "      <th>count</th>\n",
       "      <td>41188.00000</td>\n",
       "      <td>41188.000000</td>\n",
       "      <td>41188.000000</td>\n",
       "      <td>41188.000000</td>\n",
       "      <td>41188.000000</td>\n",
       "      <td>41188.000000</td>\n",
       "      <td>41188.000000</td>\n",
       "      <td>41188.000000</td>\n",
       "      <td>41188.000000</td>\n",
       "      <td>41188.000000</td>\n",
       "      <td>41188.000000</td>\n",
       "    </tr>\n",
       "    <tr>\n",
       "      <th>mean</th>\n",
       "      <td>40.02406</td>\n",
       "      <td>258.285010</td>\n",
       "      <td>2.567593</td>\n",
       "      <td>962.475454</td>\n",
       "      <td>0.172963</td>\n",
       "      <td>0.081886</td>\n",
       "      <td>93.575664</td>\n",
       "      <td>-40.502600</td>\n",
       "      <td>3.621291</td>\n",
       "      <td>5167.035911</td>\n",
       "      <td>0.112654</td>\n",
       "    </tr>\n",
       "    <tr>\n",
       "      <th>std</th>\n",
       "      <td>10.42125</td>\n",
       "      <td>259.279249</td>\n",
       "      <td>2.770014</td>\n",
       "      <td>186.910907</td>\n",
       "      <td>0.494901</td>\n",
       "      <td>1.570960</td>\n",
       "      <td>0.578840</td>\n",
       "      <td>4.628198</td>\n",
       "      <td>1.734447</td>\n",
       "      <td>72.251528</td>\n",
       "      <td>0.316173</td>\n",
       "    </tr>\n",
       "    <tr>\n",
       "      <th>min</th>\n",
       "      <td>17.00000</td>\n",
       "      <td>0.000000</td>\n",
       "      <td>1.000000</td>\n",
       "      <td>0.000000</td>\n",
       "      <td>0.000000</td>\n",
       "      <td>-3.400000</td>\n",
       "      <td>92.201000</td>\n",
       "      <td>-50.800000</td>\n",
       "      <td>0.634000</td>\n",
       "      <td>4963.600000</td>\n",
       "      <td>0.000000</td>\n",
       "    </tr>\n",
       "    <tr>\n",
       "      <th>25%</th>\n",
       "      <td>32.00000</td>\n",
       "      <td>102.000000</td>\n",
       "      <td>1.000000</td>\n",
       "      <td>999.000000</td>\n",
       "      <td>0.000000</td>\n",
       "      <td>-1.800000</td>\n",
       "      <td>93.075000</td>\n",
       "      <td>-42.700000</td>\n",
       "      <td>1.344000</td>\n",
       "      <td>5099.100000</td>\n",
       "      <td>0.000000</td>\n",
       "    </tr>\n",
       "    <tr>\n",
       "      <th>50%</th>\n",
       "      <td>38.00000</td>\n",
       "      <td>180.000000</td>\n",
       "      <td>2.000000</td>\n",
       "      <td>999.000000</td>\n",
       "      <td>0.000000</td>\n",
       "      <td>1.100000</td>\n",
       "      <td>93.749000</td>\n",
       "      <td>-41.800000</td>\n",
       "      <td>4.857000</td>\n",
       "      <td>5191.000000</td>\n",
       "      <td>0.000000</td>\n",
       "    </tr>\n",
       "    <tr>\n",
       "      <th>75%</th>\n",
       "      <td>47.00000</td>\n",
       "      <td>319.000000</td>\n",
       "      <td>3.000000</td>\n",
       "      <td>999.000000</td>\n",
       "      <td>0.000000</td>\n",
       "      <td>1.400000</td>\n",
       "      <td>93.994000</td>\n",
       "      <td>-36.400000</td>\n",
       "      <td>4.961000</td>\n",
       "      <td>5228.100000</td>\n",
       "      <td>0.000000</td>\n",
       "    </tr>\n",
       "    <tr>\n",
       "      <th>max</th>\n",
       "      <td>98.00000</td>\n",
       "      <td>4918.000000</td>\n",
       "      <td>56.000000</td>\n",
       "      <td>999.000000</td>\n",
       "      <td>7.000000</td>\n",
       "      <td>1.400000</td>\n",
       "      <td>94.767000</td>\n",
       "      <td>-26.900000</td>\n",
       "      <td>5.045000</td>\n",
       "      <td>5228.100000</td>\n",
       "      <td>1.000000</td>\n",
       "    </tr>\n",
       "  </tbody>\n",
       "</table>\n",
       "</div>"
      ],
      "text/plain": [
       "               age      duration      campaign         pdays      previous  \\\n",
       "count  41188.00000  41188.000000  41188.000000  41188.000000  41188.000000   \n",
       "mean      40.02406    258.285010      2.567593    962.475454      0.172963   \n",
       "std       10.42125    259.279249      2.770014    186.910907      0.494901   \n",
       "min       17.00000      0.000000      1.000000      0.000000      0.000000   \n",
       "25%       32.00000    102.000000      1.000000    999.000000      0.000000   \n",
       "50%       38.00000    180.000000      2.000000    999.000000      0.000000   \n",
       "75%       47.00000    319.000000      3.000000    999.000000      0.000000   \n",
       "max       98.00000   4918.000000     56.000000    999.000000      7.000000   \n",
       "\n",
       "       emp_var_rate  cons_price_idx  cons_conf_idx     euribor3m  \\\n",
       "count  41188.000000    41188.000000   41188.000000  41188.000000   \n",
       "mean       0.081886       93.575664     -40.502600      3.621291   \n",
       "std        1.570960        0.578840       4.628198      1.734447   \n",
       "min       -3.400000       92.201000     -50.800000      0.634000   \n",
       "25%       -1.800000       93.075000     -42.700000      1.344000   \n",
       "50%        1.100000       93.749000     -41.800000      4.857000   \n",
       "75%        1.400000       93.994000     -36.400000      4.961000   \n",
       "max        1.400000       94.767000     -26.900000      5.045000   \n",
       "\n",
       "        nr_employed  subscription  \n",
       "count  41188.000000  41188.000000  \n",
       "mean    5167.035911      0.112654  \n",
       "std       72.251528      0.316173  \n",
       "min     4963.600000      0.000000  \n",
       "25%     5099.100000      0.000000  \n",
       "50%     5191.000000      0.000000  \n",
       "75%     5228.100000      0.000000  \n",
       "max     5228.100000      1.000000  "
      ]
     },
     "execution_count": 5,
     "metadata": {},
     "output_type": "execute_result"
    }
   ],
   "source": [
    "data.describe()"
   ]
  },
  {
   "cell_type": "code",
   "execution_count": 6,
   "metadata": {
    "id": "WOpwZvkLv9jd"
   },
   "outputs": [
    {
     "data": {
      "text/plain": [
       "age                   0\n",
       "job                 330\n",
       "marital              80\n",
       "education          1731\n",
       "default            8597\n",
       "housing             990\n",
       "loan                990\n",
       "contact               0\n",
       "month                 0\n",
       "day_of_week           0\n",
       "duration              2\n",
       "campaign              0\n",
       "pdays             39673\n",
       "previous              0\n",
       "poutcome              0\n",
       "emp_var_rate          0\n",
       "cons_price_idx        0\n",
       "cons_conf_idx         0\n",
       "euribor3m             0\n",
       "nr_employed           0\n",
       "subscription          0\n",
       "dtype: int64"
      ]
     },
     "execution_count": 6,
     "metadata": {},
     "output_type": "execute_result"
    }
   ],
   "source": [
    "#Missing value checks\n",
    "data = data.replace(to_replace=\"unknown\",value=np.nan)\n",
    "data = data.replace(to_replace=999,value=np.nan)\n",
    "data.head(10)\n",
    "data.isnull().sum()\n",
    "\n",
    "#Note:\n",
    "#Categorical features unknown is NULL/NA/Missing Value\n",
    "#Numerical features 999 is NULL/NA/Missing Value\n",
    "#We can see the sum of missing values in each features"
   ]
  },
  {
   "cell_type": "code",
   "execution_count": 7,
   "metadata": {
    "id": "AJrvFs8Hv9YS"
   },
   "outputs": [
    {
     "data": {
      "text/plain": [
       "age                0.000000\n",
       "job                0.801204\n",
       "marital            0.194231\n",
       "education          4.202680\n",
       "default           20.872584\n",
       "housing            2.403613\n",
       "loan               2.403613\n",
       "contact            0.000000\n",
       "month              0.000000\n",
       "day_of_week        0.000000\n",
       "duration           0.004856\n",
       "campaign           0.000000\n",
       "pdays             96.321744\n",
       "previous           0.000000\n",
       "poutcome           0.000000\n",
       "emp_var_rate       0.000000\n",
       "cons_price_idx     0.000000\n",
       "cons_conf_idx      0.000000\n",
       "euribor3m          0.000000\n",
       "nr_employed        0.000000\n",
       "subscription       0.000000\n",
       "dtype: float64"
      ]
     },
     "execution_count": 7,
     "metadata": {},
     "output_type": "execute_result"
    }
   ],
   "source": [
    "#Percentage of Missing values\n",
    "data.isnull().mean()*100\n",
    "\n",
    "#Note:\n",
    "#Any feature which has more than 20% Missing values, Better to drop it rather than imputing NA, \n",
    "#which might wrongly represent the data\n",
    "#Therefore we will be dropping pdays and default feature          "
   ]
  },
  {
   "cell_type": "code",
   "execution_count": 8,
   "metadata": {
    "id": "oluW-PFHv9Da"
   },
   "outputs": [
    {
     "data": {
      "text/plain": [
       "Index(['age', 'job', 'marital', 'education', 'housing', 'loan', 'contact',\n",
       "       'month', 'day_of_week', 'duration', 'campaign', 'previous', 'poutcome',\n",
       "       'emp_var_rate', 'cons_price_idx', 'cons_conf_idx', 'euribor3m',\n",
       "       'nr_employed', 'subscription'],\n",
       "      dtype='object')"
      ]
     },
     "execution_count": 8,
     "metadata": {},
     "output_type": "execute_result"
    }
   ],
   "source": [
    "data = data.drop(['pdays','default'], axis=1)\n",
    "data.columns\n",
    "#Note:\n",
    "# pdays and default feature are dropped"
   ]
  },
  {
   "cell_type": "code",
   "execution_count": 9,
   "metadata": {},
   "outputs": [
    {
     "data": {
      "text/plain": [
       "age               0.0\n",
       "job               0.0\n",
       "marital           0.0\n",
       "education         0.0\n",
       "housing           0.0\n",
       "loan              0.0\n",
       "contact           0.0\n",
       "month             0.0\n",
       "day_of_week       0.0\n",
       "duration          0.0\n",
       "campaign          0.0\n",
       "previous          0.0\n",
       "poutcome          0.0\n",
       "emp_var_rate      0.0\n",
       "cons_price_idx    0.0\n",
       "cons_conf_idx     0.0\n",
       "euribor3m         0.0\n",
       "nr_employed       0.0\n",
       "subscription      0.0\n",
       "dtype: float64"
      ]
     },
     "execution_count": 9,
     "metadata": {},
     "output_type": "execute_result"
    }
   ],
   "source": [
    "#Missing Values imputation\n",
    "data['job'] = data['job'].fillna(data['job'].mode()[0])\n",
    "data['marital'] = data['marital'].fillna(data['marital'].mode()[0])\n",
    "data['education'] = data['education'].fillna(data['education'].mode()[0])\n",
    "data['housing'] = data['housing'].fillna(data['housing'].mode()[0])\n",
    "data['loan'] = data['loan'].fillna(data['loan'].mode()[0])\n",
    "data['duration'] = data['duration'].fillna(data['duration'].median())\n",
    "data.isnull().mean()*100\n",
    "#Note:\n",
    "#Imputation of NA/Missing values can be done by various methods depending on data types\n",
    "#Like: Mode/KNN Imputation for categorical features and Mean/Median/KNN Imputation for Numerical features\n",
    "#We will use Mode for categorical features Imputation\n",
    "#We will use Median for Numerical feature Imputation"
   ]
  },
  {
   "cell_type": "code",
   "execution_count": 10,
   "metadata": {},
   "outputs": [
    {
     "data": {
      "image/png": "[encoded data removed]",
      "text/plain": [
       "<Figure size 1080x360 with 2 Axes>"
      ]
     },
     "metadata": {
      "needs_background": "light"
     },
     "output_type": "display_data"
    }
   ],
   "source": [
    "#Outliers\n",
    "#duration  boxplot\n",
    "fig, ax = plt.subplots(1, 2, sharex=True, figsize=(15,5))\n",
    "sns.boxplot(data=data, x='duration', ax=ax[0])\n",
    "\n",
    "#Note\n",
    "#Upper tail outliers\n",
    "\n",
    "#duration  histogram\n",
    "sns.histplot(data=data, x='duration', ax=ax[1])\n",
    "plt.show()\n",
    "#Note\n",
    "#Rightly skewed data"
   ]
  },
  {
   "cell_type": "code",
   "execution_count": 11,
   "metadata": {},
   "outputs": [
    {
     "data": {
      "image/png": "[encoded data removed]",
      "text/plain": [
       "<Figure size 1080x360 with 2 Axes>"
      ]
     },
     "metadata": {
      "needs_background": "light"
     },
     "output_type": "display_data"
    }
   ],
   "source": [
    "#campaign  boxplot\n",
    "fig, ax = plt.subplots(1, 2, sharex=True, figsize=(15,5))\n",
    "sns.boxplot(data=data, x='campaign', ax=ax[0])\n",
    "\n",
    "#Note\n",
    "#Upper tail outliers\n",
    "\n",
    "#campaign  histogram\n",
    "sns.histplot(data=data, x='campaign', ax=ax[1])\n",
    "plt.show()\n",
    "#Note\n",
    "#Rightly skewed data"
   ]
  },
  {
   "cell_type": "code",
   "execution_count": 12,
   "metadata": {},
   "outputs": [
    {
     "data": {
      "image/png": "[encoded data removed]",
      "text/plain": [
       "<Figure size 1080x360 with 2 Axes>"
      ]
     },
     "metadata": {
      "needs_background": "light"
     },
     "output_type": "display_data"
    }
   ],
   "source": [
    "#previous  boxplot\n",
    "fig, ax = plt.subplots(1, 2, sharex=True, figsize=(15,5))\n",
    "sns.boxplot(data=data, x='previous', ax=ax[0])\n",
    "\n",
    "#Note\n",
    "#Upper tail outliers\n",
    "\n",
    "#previous  histogram\n",
    "sns.histplot(data=data, x='previous', ax=ax[1])\n",
    "plt.show()\n",
    "#Note\n",
    "#Rightly skewed data"
   ]
  },
  {
   "cell_type": "code",
   "execution_count": 13,
   "metadata": {},
   "outputs": [
    {
     "data": {
      "image/png": "[encoded data removed]",
      "text/plain": [
       "<Figure size 1080x360 with 2 Axes>"
      ]
     },
     "metadata": {
      "needs_background": "light"
     },
     "output_type": "display_data"
    }
   ],
   "source": [
    "#emp_var_rate  boxplot\n",
    "fig, ax = plt.subplots(1, 2, sharex=True, figsize=(15,5))\n",
    "sns.boxplot(data=data, x='emp_var_rate', ax=ax[0])\n",
    "\n",
    "#Note\n",
    "#No Outliers\n",
    "\n",
    "#emp_var_rate  histogram\n",
    "sns.histplot(data=data, x='emp_var_rate', ax=ax[1])\n",
    "plt.show()\n",
    "#Note\n",
    "#Slightly normal distribution"
   ]
  },
  {
   "cell_type": "code",
   "execution_count": 14,
   "metadata": {},
   "outputs": [
    {
     "data": {
      "image/png": "[encoded data removed]",
      "text/plain": [
       "<Figure size 1080x360 with 2 Axes>"
      ]
     },
     "metadata": {
      "needs_background": "light"
     },
     "output_type": "display_data"
    }
   ],
   "source": [
    "#cons_price_idx  boxplot\n",
    "fig, ax = plt.subplots(1, 2, sharex=True, figsize=(15,5))\n",
    "sns.boxplot(data=data, x='cons_price_idx', ax=ax[0])\n",
    "\n",
    "#Note\n",
    "#No Outliers\n",
    "\n",
    "#cons_price_idx  histogram\n",
    "sns.histplot(data=data, x='cons_price_idx', ax=ax[1])\n",
    "plt.show()\n",
    "#Note\n",
    "#Slightly normal distribution"
   ]
  },
  {
   "cell_type": "code",
   "execution_count": 15,
   "metadata": {},
   "outputs": [
    {
     "data": {
      "image/png": "[encoded data removed]",
      "text/plain": [
       "<Figure size 1080x360 with 2 Axes>"
      ]
     },
     "metadata": {
      "needs_background": "light"
     },
     "output_type": "display_data"
    }
   ],
   "source": [
    "#cons_conf_idx  boxplot\n",
    "fig, ax = plt.subplots(1, 2, sharex=True, figsize=(15,5))\n",
    "sns.boxplot(data=data, x='cons_conf_idx', ax=ax[0])\n",
    "\n",
    "#Note\n",
    "#No Outliers\n",
    "\n",
    "#cons_conf_idx  histogram\n",
    "sns.histplot(data=data, x='cons_conf_idx', ax=ax[1])\n",
    "plt.show()\n",
    "#Note\n",
    "#Slightly normal distribution"
   ]
  },
  {
   "cell_type": "code",
   "execution_count": 16,
   "metadata": {},
   "outputs": [
    {
     "data": {
      "image/png": "[encoded data removed]",
      "text/plain": [
       "<Figure size 1080x360 with 2 Axes>"
      ]
     },
     "metadata": {
      "needs_background": "light"
     },
     "output_type": "display_data"
    }
   ],
   "source": [
    "#euribor3m  boxplot\n",
    "fig, ax = plt.subplots(1, 2, sharex=True, figsize=(15,5))\n",
    "sns.boxplot(data=data, x='euribor3m', ax=ax[0])\n",
    "\n",
    "#Note\n",
    "#No Outliers\n",
    "\n",
    "#euribor3m  histogram\n",
    "sns.histplot(data=data, x='euribor3m', ax=ax[1])\n",
    "plt.show()\n",
    "#Note\n",
    "#Slightly normal distribution"
   ]
  },
  {
   "cell_type": "code",
   "execution_count": 17,
   "metadata": {},
   "outputs": [
    {
     "data": {
      "image/png": "[encoded data removed]",
      "text/plain": [
       "<Figure size 1080x360 with 2 Axes>"
      ]
     },
     "metadata": {
      "needs_background": "light"
     },
     "output_type": "display_data"
    }
   ],
   "source": [
    "#nr_employed  boxplot\n",
    "fig, ax = plt.subplots(1, 2, sharex=True, figsize=(15,5))\n",
    "sns.boxplot(data=data, x='nr_employed', ax=ax[0])\n",
    "\n",
    "#Note\n",
    "#No Outliers\n",
    "\n",
    "#nr_employed  histogram\n",
    "sns.histplot(data=data, x='nr_employed', ax=ax[1])\n",
    "plt.show()\n",
    "#Note\n",
    "#Slightly normal distribution"
   ]
  },
  {
   "cell_type": "code",
   "execution_count": 18,
   "metadata": {},
   "outputs": [
    {
     "data": {
      "image/png": "[encoded data removed]",
      "text/plain": [
       "<Figure size 1080x360 with 2 Axes>"
      ]
     },
     "metadata": {
      "needs_background": "light"
     },
     "output_type": "display_data"
    }
   ],
   "source": [
    "#subscription  boxplot\n",
    "fig, ax = plt.subplots(1, 2, sharex=True, figsize=(15,5))\n",
    "sns.boxplot(data=data, x='subscription', ax=ax[0])\n",
    "\n",
    "#Note\n",
    "#No Outliers\n",
    "\n",
    "#subscription  histogram\n",
    "sns.histplot(data=data, x='subscription', ax=ax[1])\n",
    "plt.show()\n",
    "#Note\n",
    "#Slightly normal distribution"
   ]
  },
  {
   "cell_type": "code",
   "execution_count": 19,
   "metadata": {},
   "outputs": [],
   "source": [
    "#Treatment for outliers values: duration\n",
    "Q1=data['duration'].quantile(0.25)\n",
    "Q3=data['duration'].quantile(0.75)\n",
    "IQR=Q3-Q1\n",
    "Lower_Whisker = Q1 - 1.5*IQR\n",
    "Upper_Whisker = Q3 + 1.5*IQR\n",
    "\n",
    "data['duration'] = np.where((data['duration']>Upper_Whisker),data['duration'].quantile(0.90),\n",
    "                             np.where((data['duration']<Lower_Whisker),data['duration'].quantile(0.10),data['duration']\n",
    "                             ))\n",
    "\n",
    "#Note\n",
    "#Replacing outliers values with 90% quantile values for upper tail and 10% quantile values for lower tail outliers"
   ]
  },
  {
   "cell_type": "code",
   "execution_count": 20,
   "metadata": {},
   "outputs": [],
   "source": [
    "#Treatment for outliers values: campaign\n",
    "Q1=data['campaign'].quantile(0.25)\n",
    "Q3=data['campaign'].quantile(0.75)\n",
    "IQR=Q3-Q1\n",
    "Lower_Whisker = Q1 - 1.5*IQR\n",
    "Upper_Whisker = Q3 + 1.5*IQR\n",
    "\n",
    "data['campaign'] = np.where((data['campaign']>Upper_Whisker),data['campaign'].quantile(0.90),\n",
    "                             np.where((data['campaign']<Lower_Whisker),data['campaign'].quantile(0.10),data['campaign']\n",
    "                             ))\n",
    "\n",
    "#Note\n",
    "#Replacing outliers values with 90% quantile values for upper tail and 10% quantile values for lower tail outliers"
   ]
  },
  {
   "cell_type": "code",
   "execution_count": 21,
   "metadata": {},
   "outputs": [
    {
     "data": {
      "text/html": [
       "<div>\n",
       "<style scoped>\n",
       "    .dataframe tbody tr th:only-of-type {\n",
       "        vertical-align: middle;\n",
       "    }\n",
       "\n",
       "    .dataframe tbody tr th {\n",
       "        vertical-align: top;\n",
       "    }\n",
       "\n",
       "    .dataframe thead th {\n",
       "        text-align: right;\n",
       "    }\n",
       "</style>\n",
       "<table border=\"1\" class=\"dataframe\">\n",
       "  <thead>\n",
       "    <tr style=\"text-align: right;\">\n",
       "      <th></th>\n",
       "      <th>age</th>\n",
       "      <th>duration</th>\n",
       "      <th>campaign</th>\n",
       "      <th>previous</th>\n",
       "      <th>emp_var_rate</th>\n",
       "      <th>cons_price_idx</th>\n",
       "      <th>cons_conf_idx</th>\n",
       "      <th>euribor3m</th>\n",
       "      <th>nr_employed</th>\n",
       "      <th>subscription</th>\n",
       "    </tr>\n",
       "  </thead>\n",
       "  <tbody>\n",
       "    <tr>\n",
       "      <th>count</th>\n",
       "      <td>41188.00000</td>\n",
       "      <td>41188.000000</td>\n",
       "      <td>41188.000000</td>\n",
       "      <td>41188.000000</td>\n",
       "      <td>41188.000000</td>\n",
       "      <td>41188.000000</td>\n",
       "      <td>41188.000000</td>\n",
       "      <td>41188.000000</td>\n",
       "      <td>41188.000000</td>\n",
       "      <td>41188.000000</td>\n",
       "    </tr>\n",
       "    <tr>\n",
       "      <th>mean</th>\n",
       "      <td>40.02406</td>\n",
       "      <td>228.253059</td>\n",
       "      <td>2.216859</td>\n",
       "      <td>0.172963</td>\n",
       "      <td>0.081886</td>\n",
       "      <td>93.575664</td>\n",
       "      <td>-40.502600</td>\n",
       "      <td>3.621291</td>\n",
       "      <td>5167.035911</td>\n",
       "      <td>0.112654</td>\n",
       "    </tr>\n",
       "    <tr>\n",
       "      <th>std</th>\n",
       "      <td>10.42125</td>\n",
       "      <td>162.861794</td>\n",
       "      <td>1.422644</td>\n",
       "      <td>0.494901</td>\n",
       "      <td>1.570960</td>\n",
       "      <td>0.578840</td>\n",
       "      <td>4.628198</td>\n",
       "      <td>1.734447</td>\n",
       "      <td>72.251528</td>\n",
       "      <td>0.316173</td>\n",
       "    </tr>\n",
       "    <tr>\n",
       "      <th>min</th>\n",
       "      <td>17.00000</td>\n",
       "      <td>0.000000</td>\n",
       "      <td>1.000000</td>\n",
       "      <td>0.000000</td>\n",
       "      <td>-3.400000</td>\n",
       "      <td>92.201000</td>\n",
       "      <td>-50.800000</td>\n",
       "      <td>0.634000</td>\n",
       "      <td>4963.600000</td>\n",
       "      <td>0.000000</td>\n",
       "    </tr>\n",
       "    <tr>\n",
       "      <th>25%</th>\n",
       "      <td>32.00000</td>\n",
       "      <td>102.000000</td>\n",
       "      <td>1.000000</td>\n",
       "      <td>0.000000</td>\n",
       "      <td>-1.800000</td>\n",
       "      <td>93.075000</td>\n",
       "      <td>-42.700000</td>\n",
       "      <td>1.344000</td>\n",
       "      <td>5099.100000</td>\n",
       "      <td>0.000000</td>\n",
       "    </tr>\n",
       "    <tr>\n",
       "      <th>50%</th>\n",
       "      <td>38.00000</td>\n",
       "      <td>180.000000</td>\n",
       "      <td>2.000000</td>\n",
       "      <td>0.000000</td>\n",
       "      <td>1.100000</td>\n",
       "      <td>93.749000</td>\n",
       "      <td>-41.800000</td>\n",
       "      <td>4.857000</td>\n",
       "      <td>5191.000000</td>\n",
       "      <td>0.000000</td>\n",
       "    </tr>\n",
       "    <tr>\n",
       "      <th>75%</th>\n",
       "      <td>47.00000</td>\n",
       "      <td>319.000000</td>\n",
       "      <td>3.000000</td>\n",
       "      <td>0.000000</td>\n",
       "      <td>1.400000</td>\n",
       "      <td>93.994000</td>\n",
       "      <td>-36.400000</td>\n",
       "      <td>4.961000</td>\n",
       "      <td>5228.100000</td>\n",
       "      <td>0.000000</td>\n",
       "    </tr>\n",
       "    <tr>\n",
       "      <th>max</th>\n",
       "      <td>98.00000</td>\n",
       "      <td>644.000000</td>\n",
       "      <td>6.000000</td>\n",
       "      <td>7.000000</td>\n",
       "      <td>1.400000</td>\n",
       "      <td>94.767000</td>\n",
       "      <td>-26.900000</td>\n",
       "      <td>5.045000</td>\n",
       "      <td>5228.100000</td>\n",
       "      <td>1.000000</td>\n",
       "    </tr>\n",
       "  </tbody>\n",
       "</table>\n",
       "</div>"
      ],
      "text/plain": [
       "               age      duration      campaign      previous  emp_var_rate  \\\n",
       "count  41188.00000  41188.000000  41188.000000  41188.000000  41188.000000   \n",
       "mean      40.02406    228.253059      2.216859      0.172963      0.081886   \n",
       "std       10.42125    162.861794      1.422644      0.494901      1.570960   \n",
       "min       17.00000      0.000000      1.000000      0.000000     -3.400000   \n",
       "25%       32.00000    102.000000      1.000000      0.000000     -1.800000   \n",
       "50%       38.00000    180.000000      2.000000      0.000000      1.100000   \n",
       "75%       47.00000    319.000000      3.000000      0.000000      1.400000   \n",
       "max       98.00000    644.000000      6.000000      7.000000      1.400000   \n",
       "\n",
       "       cons_price_idx  cons_conf_idx     euribor3m   nr_employed  subscription  \n",
       "count    41188.000000   41188.000000  41188.000000  41188.000000  41188.000000  \n",
       "mean        93.575664     -40.502600      3.621291   5167.035911      0.112654  \n",
       "std          0.578840       4.628198      1.734447     72.251528      0.316173  \n",
       "min         92.201000     -50.800000      0.634000   4963.600000      0.000000  \n",
       "25%         93.075000     -42.700000      1.344000   5099.100000      0.000000  \n",
       "50%         93.749000     -41.800000      4.857000   5191.000000      0.000000  \n",
       "75%         93.994000     -36.400000      4.961000   5228.100000      0.000000  \n",
       "max         94.767000     -26.900000      5.045000   5228.100000      1.000000  "
      ]
     },
     "execution_count": 21,
     "metadata": {},
     "output_type": "execute_result"
    }
   ],
   "source": [
    "data.describe()"
   ]
  },
  {
   "cell_type": "code",
   "execution_count": 22,
   "metadata": {},
   "outputs": [
    {
     "data": {
      "text/html": [
       "<div>\n",
       "<style scoped>\n",
       "    .dataframe tbody tr th:only-of-type {\n",
       "        vertical-align: middle;\n",
       "    }\n",
       "\n",
       "    .dataframe tbody tr th {\n",
       "        vertical-align: top;\n",
       "    }\n",
       "\n",
       "    .dataframe thead th {\n",
       "        text-align: right;\n",
       "    }\n",
       "</style>\n",
       "<table border=\"1\" class=\"dataframe\">\n",
       "  <thead>\n",
       "    <tr style=\"text-align: right;\">\n",
       "      <th></th>\n",
       "      <th>age</th>\n",
       "      <th>job</th>\n",
       "      <th>marital</th>\n",
       "      <th>education</th>\n",
       "      <th>housing</th>\n",
       "      <th>loan</th>\n",
       "      <th>contact</th>\n",
       "      <th>month</th>\n",
       "      <th>day_of_week</th>\n",
       "      <th>duration</th>\n",
       "      <th>campaign</th>\n",
       "      <th>previous</th>\n",
       "      <th>poutcome</th>\n",
       "      <th>emp_var_rate</th>\n",
       "      <th>cons_price_idx</th>\n",
       "      <th>cons_conf_idx</th>\n",
       "      <th>euribor3m</th>\n",
       "      <th>nr_employed</th>\n",
       "      <th>subscription</th>\n",
       "    </tr>\n",
       "  </thead>\n",
       "  <tbody>\n",
       "    <tr>\n",
       "      <th>0</th>\n",
       "      <td>44</td>\n",
       "      <td>blue-collar</td>\n",
       "      <td>married</td>\n",
       "      <td>basic.4y</td>\n",
       "      <td>yes</td>\n",
       "      <td>no</td>\n",
       "      <td>cellular</td>\n",
       "      <td>aug</td>\n",
       "      <td>thu</td>\n",
       "      <td>210.0</td>\n",
       "      <td>1.0</td>\n",
       "      <td>0</td>\n",
       "      <td>nonexistent</td>\n",
       "      <td>1.4</td>\n",
       "      <td>93.444</td>\n",
       "      <td>-36.1</td>\n",
       "      <td>4.963</td>\n",
       "      <td>5228.1</td>\n",
       "      <td>0</td>\n",
       "    </tr>\n",
       "    <tr>\n",
       "      <th>1</th>\n",
       "      <td>53</td>\n",
       "      <td>technician</td>\n",
       "      <td>married</td>\n",
       "      <td>university.degree</td>\n",
       "      <td>no</td>\n",
       "      <td>no</td>\n",
       "      <td>cellular</td>\n",
       "      <td>nov</td>\n",
       "      <td>fri</td>\n",
       "      <td>138.0</td>\n",
       "      <td>1.0</td>\n",
       "      <td>0</td>\n",
       "      <td>nonexistent</td>\n",
       "      <td>-0.1</td>\n",
       "      <td>93.200</td>\n",
       "      <td>-42.0</td>\n",
       "      <td>4.021</td>\n",
       "      <td>5195.8</td>\n",
       "      <td>0</td>\n",
       "    </tr>\n",
       "    <tr>\n",
       "      <th>2</th>\n",
       "      <td>28</td>\n",
       "      <td>management</td>\n",
       "      <td>single</td>\n",
       "      <td>university.degree</td>\n",
       "      <td>yes</td>\n",
       "      <td>no</td>\n",
       "      <td>cellular</td>\n",
       "      <td>jun</td>\n",
       "      <td>thu</td>\n",
       "      <td>339.0</td>\n",
       "      <td>3.0</td>\n",
       "      <td>2</td>\n",
       "      <td>success</td>\n",
       "      <td>-1.7</td>\n",
       "      <td>94.055</td>\n",
       "      <td>-39.8</td>\n",
       "      <td>0.729</td>\n",
       "      <td>4991.6</td>\n",
       "      <td>1</td>\n",
       "    </tr>\n",
       "    <tr>\n",
       "      <th>3</th>\n",
       "      <td>39</td>\n",
       "      <td>services</td>\n",
       "      <td>married</td>\n",
       "      <td>high.school</td>\n",
       "      <td>no</td>\n",
       "      <td>no</td>\n",
       "      <td>cellular</td>\n",
       "      <td>apr</td>\n",
       "      <td>fri</td>\n",
       "      <td>185.0</td>\n",
       "      <td>2.0</td>\n",
       "      <td>0</td>\n",
       "      <td>nonexistent</td>\n",
       "      <td>-1.8</td>\n",
       "      <td>93.075</td>\n",
       "      <td>-47.1</td>\n",
       "      <td>1.405</td>\n",
       "      <td>5099.1</td>\n",
       "      <td>0</td>\n",
       "    </tr>\n",
       "    <tr>\n",
       "      <th>4</th>\n",
       "      <td>55</td>\n",
       "      <td>retired</td>\n",
       "      <td>married</td>\n",
       "      <td>basic.4y</td>\n",
       "      <td>yes</td>\n",
       "      <td>no</td>\n",
       "      <td>cellular</td>\n",
       "      <td>aug</td>\n",
       "      <td>fri</td>\n",
       "      <td>137.0</td>\n",
       "      <td>1.0</td>\n",
       "      <td>1</td>\n",
       "      <td>success</td>\n",
       "      <td>-2.9</td>\n",
       "      <td>92.201</td>\n",
       "      <td>-31.4</td>\n",
       "      <td>0.869</td>\n",
       "      <td>5076.2</td>\n",
       "      <td>1</td>\n",
       "    </tr>\n",
       "  </tbody>\n",
       "</table>\n",
       "</div>"
      ],
      "text/plain": [
       "   age          job  marital          education housing loan   contact month  \\\n",
       "0   44  blue-collar  married           basic.4y     yes   no  cellular   aug   \n",
       "1   53   technician  married  university.degree      no   no  cellular   nov   \n",
       "2   28   management   single  university.degree     yes   no  cellular   jun   \n",
       "3   39     services  married        high.school      no   no  cellular   apr   \n",
       "4   55      retired  married           basic.4y     yes   no  cellular   aug   \n",
       "\n",
       "  day_of_week  duration  campaign  previous     poutcome  emp_var_rate  \\\n",
       "0         thu     210.0       1.0         0  nonexistent           1.4   \n",
       "1         fri     138.0       1.0         0  nonexistent          -0.1   \n",
       "2         thu     339.0       3.0         2      success          -1.7   \n",
       "3         fri     185.0       2.0         0  nonexistent          -1.8   \n",
       "4         fri     137.0       1.0         1      success          -2.9   \n",
       "\n",
       "   cons_price_idx  cons_conf_idx  euribor3m  nr_employed  subscription  \n",
       "0          93.444          -36.1      4.963       5228.1             0  \n",
       "1          93.200          -42.0      4.021       5195.8             0  \n",
       "2          94.055          -39.8      0.729       4991.6             1  \n",
       "3          93.075          -47.1      1.405       5099.1             0  \n",
       "4          92.201          -31.4      0.869       5076.2             1  "
      ]
     },
     "execution_count": 22,
     "metadata": {},
     "output_type": "execute_result"
    }
   ],
   "source": [
    "data.head(5)"
   ]
  },
  {
   "cell_type": "markdown",
   "metadata": {
    "id": "sLfPLw7JdSKE"
   },
   "source": [
    "# Visualisation "
   ]
  },
  {
   "cell_type": "markdown",
   "metadata": {
    "id": "YiNG2vD5JWTp"
   },
   "source": [
    "### Question 1\n",
    "<h4>Find the correlation and plot the correlation between features.<br><br>\n",
    "    Write the python code in the below cell to create appropriate visual to perform the above task.\n",
    "    <h4>Answer in markdown cells below the visual <br><br>\n",
    "        1.Summarise your findings from the visual.<br>\n",
    "            2.The reason for selecting the chart type you did. <br>\n",
    "                3.Mention the pre-attentive attributes used.(atleast 2)<br>\n",
    "                    4.Mention the gestalt principles used.(atleast 2)<br>\n",
    "   "
   ]
  },
  {
   "cell_type": "code",
   "execution_count": 23,
   "metadata": {
    "id": "48rF0XCCVvI4"
   },
   "outputs": [
    {
     "data": {
      "text/html": [
       "<div>\n",
       "<style scoped>\n",
       "    .dataframe tbody tr th:only-of-type {\n",
       "        vertical-align: middle;\n",
       "    }\n",
       "\n",
       "    .dataframe tbody tr th {\n",
       "        vertical-align: top;\n",
       "    }\n",
       "\n",
       "    .dataframe thead th {\n",
       "        text-align: right;\n",
       "    }\n",
       "</style>\n",
       "<table border=\"1\" class=\"dataframe\">\n",
       "  <thead>\n",
       "    <tr style=\"text-align: right;\">\n",
       "      <th></th>\n",
       "      <th>age</th>\n",
       "      <th>duration</th>\n",
       "      <th>campaign</th>\n",
       "      <th>previous</th>\n",
       "      <th>emp_var_rate</th>\n",
       "      <th>cons_price_idx</th>\n",
       "      <th>cons_conf_idx</th>\n",
       "      <th>euribor3m</th>\n",
       "      <th>nr_employed</th>\n",
       "      <th>subscription</th>\n",
       "    </tr>\n",
       "  </thead>\n",
       "  <tbody>\n",
       "    <tr>\n",
       "      <th>age</th>\n",
       "      <td>1.000000</td>\n",
       "      <td>0.004711</td>\n",
       "      <td>0.000609</td>\n",
       "      <td>0.024365</td>\n",
       "      <td>-0.000371</td>\n",
       "      <td>0.000857</td>\n",
       "      <td>0.129372</td>\n",
       "      <td>0.010767</td>\n",
       "      <td>-0.017725</td>\n",
       "      <td>0.030399</td>\n",
       "    </tr>\n",
       "    <tr>\n",
       "      <th>duration</th>\n",
       "      <td>0.004711</td>\n",
       "      <td>1.000000</td>\n",
       "      <td>-0.079733</td>\n",
       "      <td>0.041028</td>\n",
       "      <td>-0.049118</td>\n",
       "      <td>0.000238</td>\n",
       "      <td>-0.004713</td>\n",
       "      <td>-0.056758</td>\n",
       "      <td>-0.074270</td>\n",
       "      <td>0.384297</td>\n",
       "    </tr>\n",
       "    <tr>\n",
       "      <th>campaign</th>\n",
       "      <td>0.000609</td>\n",
       "      <td>-0.079733</td>\n",
       "      <td>1.000000</td>\n",
       "      <td>-0.081208</td>\n",
       "      <td>0.142665</td>\n",
       "      <td>0.109956</td>\n",
       "      <td>-0.020199</td>\n",
       "      <td>0.123518</td>\n",
       "      <td>0.136623</td>\n",
       "      <td>-0.066999</td>\n",
       "    </tr>\n",
       "    <tr>\n",
       "      <th>previous</th>\n",
       "      <td>0.024365</td>\n",
       "      <td>0.041028</td>\n",
       "      <td>-0.081208</td>\n",
       "      <td>1.000000</td>\n",
       "      <td>-0.420489</td>\n",
       "      <td>-0.203130</td>\n",
       "      <td>-0.050936</td>\n",
       "      <td>-0.454494</td>\n",
       "      <td>-0.501333</td>\n",
       "      <td>0.230181</td>\n",
       "    </tr>\n",
       "    <tr>\n",
       "      <th>emp_var_rate</th>\n",
       "      <td>-0.000371</td>\n",
       "      <td>-0.049118</td>\n",
       "      <td>0.142665</td>\n",
       "      <td>-0.420489</td>\n",
       "      <td>1.000000</td>\n",
       "      <td>0.775334</td>\n",
       "      <td>0.196041</td>\n",
       "      <td>0.972245</td>\n",
       "      <td>0.906970</td>\n",
       "      <td>-0.298334</td>\n",
       "    </tr>\n",
       "    <tr>\n",
       "      <th>cons_price_idx</th>\n",
       "      <td>0.000857</td>\n",
       "      <td>0.000238</td>\n",
       "      <td>0.109956</td>\n",
       "      <td>-0.203130</td>\n",
       "      <td>0.775334</td>\n",
       "      <td>1.000000</td>\n",
       "      <td>0.058986</td>\n",
       "      <td>0.688230</td>\n",
       "      <td>0.522034</td>\n",
       "      <td>-0.136211</td>\n",
       "    </tr>\n",
       "    <tr>\n",
       "      <th>cons_conf_idx</th>\n",
       "      <td>0.129372</td>\n",
       "      <td>-0.004713</td>\n",
       "      <td>-0.020199</td>\n",
       "      <td>-0.050936</td>\n",
       "      <td>0.196041</td>\n",
       "      <td>0.058986</td>\n",
       "      <td>1.000000</td>\n",
       "      <td>0.277686</td>\n",
       "      <td>0.100513</td>\n",
       "      <td>0.054878</td>\n",
       "    </tr>\n",
       "    <tr>\n",
       "      <th>euribor3m</th>\n",
       "      <td>0.010767</td>\n",
       "      <td>-0.056758</td>\n",
       "      <td>0.123518</td>\n",
       "      <td>-0.454494</td>\n",
       "      <td>0.972245</td>\n",
       "      <td>0.688230</td>\n",
       "      <td>0.277686</td>\n",
       "      <td>1.000000</td>\n",
       "      <td>0.945154</td>\n",
       "      <td>-0.307771</td>\n",
       "    </tr>\n",
       "    <tr>\n",
       "      <th>nr_employed</th>\n",
       "      <td>-0.017725</td>\n",
       "      <td>-0.074270</td>\n",
       "      <td>0.136623</td>\n",
       "      <td>-0.501333</td>\n",
       "      <td>0.906970</td>\n",
       "      <td>0.522034</td>\n",
       "      <td>0.100513</td>\n",
       "      <td>0.945154</td>\n",
       "      <td>1.000000</td>\n",
       "      <td>-0.354678</td>\n",
       "    </tr>\n",
       "    <tr>\n",
       "      <th>subscription</th>\n",
       "      <td>0.030399</td>\n",
       "      <td>0.384297</td>\n",
       "      <td>-0.066999</td>\n",
       "      <td>0.230181</td>\n",
       "      <td>-0.298334</td>\n",
       "      <td>-0.136211</td>\n",
       "      <td>0.054878</td>\n",
       "      <td>-0.307771</td>\n",
       "      <td>-0.354678</td>\n",
       "      <td>1.000000</td>\n",
       "    </tr>\n",
       "  </tbody>\n",
       "</table>\n",
       "</div>"
      ],
      "text/plain": [
       "                     age  duration  campaign  previous  emp_var_rate  \\\n",
       "age             1.000000  0.004711  0.000609  0.024365     -0.000371   \n",
       "duration        0.004711  1.000000 -0.079733  0.041028     -0.049118   \n",
       "campaign        0.000609 -0.079733  1.000000 -0.081208      0.142665   \n",
       "previous        0.024365  0.041028 -0.081208  1.000000     -0.420489   \n",
       "emp_var_rate   -0.000371 -0.049118  0.142665 -0.420489      1.000000   \n",
       "cons_price_idx  0.000857  0.000238  0.109956 -0.203130      0.775334   \n",
       "cons_conf_idx   0.129372 -0.004713 -0.020199 -0.050936      0.196041   \n",
       "euribor3m       0.010767 -0.056758  0.123518 -0.454494      0.972245   \n",
       "nr_employed    -0.017725 -0.074270  0.136623 -0.501333      0.906970   \n",
       "subscription    0.030399  0.384297 -0.066999  0.230181     -0.298334   \n",
       "\n",
       "                cons_price_idx  cons_conf_idx  euribor3m  nr_employed  \\\n",
       "age                   0.000857       0.129372   0.010767    -0.017725   \n",
       "duration              0.000238      -0.004713  -0.056758    -0.074270   \n",
       "campaign              0.109956      -0.020199   0.123518     0.136623   \n",
       "previous             -0.203130      -0.050936  -0.454494    -0.501333   \n",
       "emp_var_rate          0.775334       0.196041   0.972245     0.906970   \n",
       "cons_price_idx        1.000000       0.058986   0.688230     0.522034   \n",
       "cons_conf_idx         0.058986       1.000000   0.277686     0.100513   \n",
       "euribor3m             0.688230       0.277686   1.000000     0.945154   \n",
       "nr_employed           0.522034       0.100513   0.945154     1.000000   \n",
       "subscription         -0.136211       0.054878  -0.307771    -0.354678   \n",
       "\n",
       "                subscription  \n",
       "age                 0.030399  \n",
       "duration            0.384297  \n",
       "campaign           -0.066999  \n",
       "previous            0.230181  \n",
       "emp_var_rate       -0.298334  \n",
       "cons_price_idx     -0.136211  \n",
       "cons_conf_idx       0.054878  \n",
       "euribor3m          -0.307771  \n",
       "nr_employed        -0.354678  \n",
       "subscription        1.000000  "
      ]
     },
     "execution_count": 23,
     "metadata": {},
     "output_type": "execute_result"
    },
    {
     "data": {
      "image/png": "[encoded data removed]",
      "text/plain": [
       "<Figure size 720x360 with 2 Axes>"
      ]
     },
     "metadata": {
      "needs_background": "light"
     },
     "output_type": "display_data"
    }
   ],
   "source": [
    "# Correlation between variables and dependent variable\n",
    "plt.figure(figsize=(10,5))\n",
    "c= data.corr()\n",
    "sns.heatmap(c,cmap=\"BrBG\",annot=True)\n",
    "c"
   ]
  },
  {
   "cell_type": "code",
   "execution_count": 24,
   "metadata": {},
   "outputs": [
    {
     "data": {
      "text/plain": [
       "Index(['age', 'job', 'marital', 'education', 'housing', 'loan', 'contact',\n",
       "       'month', 'day_of_week', 'duration', 'campaign', 'previous', 'poutcome',\n",
       "       'emp_var_rate', 'cons_price_idx', 'cons_conf_idx', 'euribor3m',\n",
       "       'nr_employed', 'subscription'],\n",
       "      dtype='object')"
      ]
     },
     "execution_count": 24,
     "metadata": {},
     "output_type": "execute_result"
    }
   ],
   "source": [
    "data.columns"
   ]
  },
  {
   "cell_type": "markdown",
   "metadata": {},
   "source": [
    "#1.) euribor3m is highly positively correlated with nr_employed and emp_var_rate AND previous is mildly negatively correlated with nr_employed, euribor3m and emp_var_rate  \n",
    "\n",
    "#2.) The reason for selecting the heat map is heatmap provides realtime analytics to help campaigners and marketeers understand in seconds which are their best performing compaigns and lesser. \n",
    "\n",
    "#3.) The pre- attentitve attributes used are Color - The dark green color, which is  used to show a pattern which is highly correlated and dark brown is inversely related. The spatial position as you can see it represents best with heat map. \n",
    "\n",
    "#4.) The gestalt principles used -similarity and continuation"
   ]
  },
  {
   "cell_type": "markdown",
   "metadata": {
    "id": "igE2Vv5kdSKL"
   },
   "source": [
    "### Question 2\n",
    "<h4>Find age distribution and Plot a graph for this. And check which age group is most likely to subscribe the bank.<br><br>\n",
    "Write the python code in the below cell to create the appropriate visual to perform the above task .\n",
    "<h4>Answer in markdown cells below the visual <br><br>\n",
    "    1.Summarise your findings from the visual.<br>\n",
    "    2.The reason for selecting the chart type you did. <br>\n",
    "    3.Mention the pre-attentive attributes used.(atleast 2)<br>\n",
    "    4.Mention the gestalt principles used.(atleast 2)<br>  \n"
   ]
  },
  {
   "cell_type": "code",
   "execution_count": 25,
   "metadata": {},
   "outputs": [
    {
     "data": {
      "image/png": "[encoded data removed]",
      "text/plain": [
       "<Figure size 1008x288 with 1 Axes>"
      ]
     },
     "metadata": {
      "needs_background": "light"
     },
     "output_type": "display_data"
    }
   ],
   "source": [
    "#age  displot\n",
    "plt.figure(figsize=(14, 4))\n",
    "sns.histplot(data=data, x='age', hue='subscription', bins=40, kde=True);\n",
    "plt.title(\"Age group is most likely to subscribe the bank\",fontsize=18)\n",
    "plt.ylabel(\"Count\",fontsize=14)\n",
    "plt.show()"
   ]
  },
  {
   "cell_type": "markdown",
   "metadata": {},
   "source": [
    "#1.) From above plot we can see that age group between 25 to 50 is most likely to subscribe\n",
    "\n",
    "#2.)Plot univariate or bivariate histograms to show distributions of datasets. A histogram is a classic visualization tool that represents the distribution\n",
    "\n",
    "#3.) The pre- attentitve attributes is the form of the graph which is equally spread that highlights the fact that the decision to subscribe is not based on age.  The size which shows that age group between 25 to 50 is most likely to subscribe.\n",
    "\n",
    "#4.) The gestalt principles used -closure and proximity"
   ]
  },
  {
   "cell_type": "markdown",
   "metadata": {
    "id": "OHSTIRMrdSKO"
   },
   "source": [
    "### Question 3\n",
    "<h4>Visualize number of contacts made in each month.<br><br>\n",
    "Write the python code in the below cell to create the appropriate visual to perform the above task .\n",
    "<h4>Answer in markdown cells below the visual <br><br>\n",
    "    1.Summarise your findings from the visual.<br>\n",
    "    2.The reason for selecting the chart type you did. <br>\n",
    "    3.Mention the pre-attentive attributes used.(atleast 2)<br>\n",
    "    4.Mention the gestalt principles used.(atleast 2)<br>  \n"
   ]
  },
  {
   "cell_type": "code",
   "execution_count": 26,
   "metadata": {},
   "outputs": [],
   "source": [
    "df = data.groupby([\"month\", \"contact\"]).size()\n",
    "#graph_data = df.unstack(level=1)\n",
    "\n",
    "#df.reset_index()\n",
    "graph_data = df.reset_index()\n",
    "\n",
    "\n"
   ]
  },
  {
   "cell_type": "code",
   "execution_count": 27,
   "metadata": {},
   "outputs": [
    {
     "data": {
      "image/png": "[encoded data removed]",
      "text/plain": [
       "<Figure size 1008x288 with 1 Axes>"
      ]
     },
     "metadata": {
      "needs_background": "light"
     },
     "output_type": "display_data"
    }
   ],
   "source": [
    "plt.figure(figsize=(14, 4))\n",
    "sns.barplot(data=graph_data, x='month', y=0, hue = \"contact\", order = [\"jan\", \"feb\",\"mar\",\"apr\",\"may\",\"jun\",\"jul\",\"aug\",\"sep\",\"oct\",\"nov\",\"dec\"]);\n",
    "#graph_data.plot(kind=\"bar\")\n",
    "plt.title(\"Contacts made in each month\",fontsize=18)\n",
    "plt.ylabel(\"Count\",fontsize=14)\n",
    "plt.show()"
   ]
  },
  {
   "cell_type": "markdown",
   "metadata": {},
   "source": [
    "Answer"
   ]
  },
  {
   "cell_type": "markdown",
   "metadata": {},
   "source": [
    "#1.) This visual shows how does capign contact were made across months. This graph shows that a telephone contact started on May at highest volume and it reduced in next three months, with little bit contact in Nov whereas the cellular contact gradually started in March stayed consistent till aug except the month of june and then again it was done in the month of Nov.\n",
    "\n",
    "#2.) Bar Graph is used to show this value because the values are discrete here. This Bar graph is the pictorial representation of the contact data, where the length of bars are proportional to the number of conatacts made and their color represnts the type of contact. The picture here shows how customers are contacted , month over month using the conatact column.\n",
    "\n",
    "#3.) The pre- attentitve attributes used are height and color of the graph as mentioned above.\n",
    "\n",
    "#4.) The gestalt principles used -figure/ground, and symmetry"
   ]
  },
  {
   "cell_type": "markdown",
   "metadata": {
    "id": "Mab4VeuQdSKQ"
   },
   "source": [
    "### Question 4\n",
    "<h4>Categorize the data by grouping into education divisions and check which sector is more likely to subscribe.<br><br>\n",
    "Write the python code in the below cell to create the appropriate visual to perform the above task .\n",
    "<h4>Answer in markdown cells below the visual <br><br>\n",
    "    1.Summarise your findings from the visual.<br>\n",
    "    2.The reason for selecting the chart type you did. <br>\n",
    "    3.Mention the pre-attentive attributes used.(atleast 2)<br>\n",
    "    4.Mention the gestalt principles used.(atleast 2)<br>  \n"
   ]
  },
  {
   "cell_type": "code",
   "execution_count": 28,
   "metadata": {
    "id": "ifQIauWzVxQ5"
   },
   "outputs": [
    {
     "data": {
      "image/png": "[encoded data removed]",
      "text/plain": [
       "<Figure size 1008x288 with 1 Axes>"
      ]
     },
     "metadata": {
      "needs_background": "light"
     },
     "output_type": "display_data"
    }
   ],
   "source": [
    "plt.figure(figsize=(14, 4))\n",
    "sns.histplot(data=data, x='education', hue='subscription', bins=40, kde=True);\n",
    "plt.title(\"Education divisions which is likly to subscribe\",fontsize=18)\n",
    "plt.ylabel(\"Count\",fontsize=14)\n",
    "plt.show()"
   ]
  },
  {
   "cell_type": "markdown",
   "metadata": {},
   "source": [
    "#1.) University and high school has most subscription\n",
    "\n",
    "#2.) Plot univariate or bivariate histograms to show distributions of datasets. A histogram is a classic visualization tool that represents the distribution\n",
    "\n",
    "#3.) The pre- attentitve attributes used are Color - Blue, grey and orange makes beautiful visuals.\n",
    "\n",
    "#4.) The gestalt principles used -figure/ground, and symmetry"
   ]
  },
  {
   "cell_type": "markdown",
   "metadata": {
    "id": "z15B_xDbdSKS"
   },
   "source": [
    "### Question 5\n",
    "<h4>Plot the chart to show the total number of clients subscribed to the deposit<br><br>\n",
    "Write the python code in the below cell to create the appropriate visual to perform the above task .\n",
    "<h4>Answer in markdown cells below the visual <br><br>\n",
    "    1.Summarise your findings from the visual.<br>\n",
    "    2.The reason for selecting the chart type you did. <br>\n",
    "    3.Mention the pre-attentive attributes used.(atleast 2)<br>\n",
    "    4.Mention the gestalt principles used.(atleast 2)<br>  "
   ]
  },
  {
   "cell_type": "code",
   "execution_count": 29,
   "metadata": {
    "id": "gzFLfjt_VyAA"
   },
   "outputs": [
    {
     "name": "stderr",
     "output_type": "stream",
     "text": [
      "C:\\Users\\dellpc\\anaconda3\\lib\\site-packages\\seaborn\\_decorators.py:36: FutureWarning: Pass the following variable as a keyword arg: x. From version 0.12, the only valid positional argument will be `data`, and passing other arguments without an explicit keyword will result in an error or misinterpretation.\n",
      "  warnings.warn(\n"
     ]
    },
    {
     "data": {
      "text/plain": [
       "Text(0.5, 1.0, 'Total number of clients')"
      ]
     },
     "execution_count": 29,
     "metadata": {},
     "output_type": "execute_result"
    },
    {
     "data": {
      "image/png": "[encoded data removed]",
      "text/plain": [
       "<Figure size 432x288 with 1 Axes>"
      ]
     },
     "metadata": {
      "needs_background": "light"
     },
     "output_type": "display_data"
    }
   ],
   "source": [
    "# Manner of death\n",
    "sns.countplot(data.subscription)\n",
    "#sns.countplot(kill.manner_of_death)\n",
    "plt.title(\"Total number of clients\",color = 'blue',fontsize=15)"
   ]
  },
  {
   "cell_type": "markdown",
   "metadata": {},
   "source": [
    "#1.) It shows comparison\n",
    "\n",
    "#2.) Plot univariate or bivariate histograms to show distributions of datasets. A histogram is a classic visualization tool that represents the distribution\n",
    "\n",
    "#3.)The pre- attentitve attributes used are Color - Blue and orange makes beautiful visuals\n",
    "\n",
    "#4.)The gestalt principles used - order"
   ]
  },
  {
   "cell_type": "markdown",
   "metadata": {
    "id": "U1e-dH8lJWT1"
   },
   "source": [
    "\n",
    " \n",
    "#### Frame 1 (more) question which will help in the EDA(Exploratory Data Analysis) of the given data set and answer the same using the best visual.\n",
    " \n",
    " 1. Write the question in a markdown cell\n",
    " 2. Below the question, in a coding cell, write the python code to create the visual to answer the question  \n",
    "\n",
    "<h4> Answer in markdown cells below the visual <br><br>\n",
    "   1.Summarise your findings from the visual.<br>\n",
    "   2.The reason for selecting the chart type you did. <br>\n",
    "   3.Mention the pre-attentive attributes used.(atleast 2)<br>\n",
    "   4.Mention the gestalt principles used.(atleast 2)<br>\n",
    "  "
   ]
  },
  {
   "cell_type": "markdown",
   "metadata": {},
   "source": [
    "#Does campaign count impacts subscription?"
   ]
  },
  {
   "cell_type": "code",
   "execution_count": 30,
   "metadata": {},
   "outputs": [
    {
     "data": {
      "image/png": "[encoded data removed]",
      "text/plain": [
       "<Figure size 1008x288 with 1 Axes>"
      ]
     },
     "metadata": {
      "needs_background": "light"
     },
     "output_type": "display_data"
    }
   ],
   "source": [
    "plt.figure(figsize=(14, 4))\n",
    "sns.histplot(data=data, x='campaign', hue='subscription', bins=40, kde=True);\n",
    "plt.title(\"campaign mode with subscription\",fontsize=18)\n",
    "plt.ylabel(\"Count\",fontsize=14)\n",
    "plt.show()"
   ]
  },
  {
   "cell_type": "markdown",
   "metadata": {},
   "source": [
    "#1.) it shows comparison of histograms with different heights\n",
    "\n",
    "#2.) Plot univariate or bivariate histograms to show distributions of datasets. A histogram is a classic visualization tool that represents the distribution\n",
    "\n",
    "#3.) The pre- attentitve attributes used are Color - Blue and orange makes beautiful visuals\n",
    "\n",
    "#4.)The gestalt principles used - similarity and continuation"
   ]
  },
  {
   "cell_type": "markdown",
   "metadata": {
    "id": "nSitHsYbdSKV"
   },
   "source": [
    "<h1><center> ************ END ****************</center></h1>"
   ]
  }
 ],
 "metadata": {
  "colab": {
   "collapsed_sections": [],
   "name": "dvi-a2-ps2-wb.ipynb",
   "provenance": []
  },
  "kernelspec": {
   "display_name": "Python 3",
   "language": "python",
   "name": "python3"
  },
  "language_info": {
   "codemirror_mode": {
    "name": "ipython",
    "version": 3
   },
   "file_extension": ".py",
   "mimetype": "text/x-python",
   "name": "python",
   "nbconvert_exporter": "python",
   "pygments_lexer": "ipython3",
   "version": "3.8.8"
  }
 },
 "nbformat": 4,
 "nbformat_minor": 1
}
